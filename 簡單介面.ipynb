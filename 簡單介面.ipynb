{
 "cells": [
  {
   "cell_type": "code",
   "execution_count": 5,
   "metadata": {},
   "outputs": [],
   "source": [
    "import matplotlib.pyplot as plt\n",
    "import numpy as np\n",
    "import cv2\n",
    "import time\n",
    "import magiccube\n",
    "from magiccube.cube_base import Face\n",
    "#新增\n",
    "import tkinter as tk\n",
    "from tkinter import ttk\n",
    "import os\n",
    "from PIL import ImageTk, Image\n",
    "import base64\n",
    "from io import BytesIO"
   ]
  },
  {
   "cell_type": "code",
   "execution_count": 9,
   "metadata": {},
   "outputs": [
    {
     "name": "stderr",
     "output_type": "stream",
     "text": [
      "Exception in Tkinter callback\n",
      "Traceback (most recent call last):\n",
      "  File \"c:\\Users\\c0910\\AppData\\Local\\Programs\\Python\\Python310\\lib\\tkinter\\__init__.py\", line 1921, in __call__\n",
      "    return self.func(*args)\n",
      "  File \"C:\\Users\\c0910\\AppData\\Local\\Temp\\ipykernel_7616\\3660997647.py\", line 38, in solve_cube\n",
      "    self.step2()\n",
      "  File \"C:\\Users\\c0910\\AppData\\Local\\Temp\\ipykernel_7616\\3660997647.py\", line 46, in step2\n",
      "    cv2.imshow('congrats',complete)\n",
      "cv2.error: OpenCV(4.8.1) D:\\a\\opencv-python\\opencv-python\\opencv\\modules\\highgui\\src\\window.cpp:971: error: (-215:Assertion failed) size.width>0 && size.height>0 in function 'cv::imshow'\n",
      "\n"
     ]
    }
   ],
   "source": [
    "class CubeSolverApp:\n",
    "    def __init__(self, root):\n",
    "        self.root = root\n",
    "        self.root.title(\"魔方大師\")\n",
    "        \n",
    "    def __init__(self, root):\n",
    "        self.root = root\n",
    "        self.img_path = r'C:\\Users\\c0910\\OneDrive\\桌面\\新增資料夾\\123.jpg'\n",
    "        self.load_and_display_image()\n",
    "\n",
    "    def load_and_display_image(self):\n",
    "        # 轉base64\n",
    "        with open(self.img_path, 'rb') as img_file:\n",
    "            img_data = base64.b64encode(img_file.read()).decode('utf-8')\n",
    "\n",
    "        img_bytes = base64.b64decode(img_data)\n",
    "        img = Image.open(BytesIO(img_bytes))\n",
    "\n",
    "        self.photo = ImageTk.PhotoImage(img)\n",
    "        self.canvas = tk.Canvas(self.root, width=img.width, height=img.height, bd=0, cursor='circle')\n",
    "        self.canvas.create_image(0, 0, anchor=tk.NW, image=self.photo)\n",
    "        self.canvas.pack()\n",
    "        \n",
    "        self.label = ttk.Label(root, text=\"請準備好掃描魔方\")\n",
    "        self.label.pack(pady=10)\n",
    "\n",
    "        self.solve_button = ttk.Button(root, text=\"開始\", command=self.solve_cube)\n",
    "        self.solve_button.pack(pady=20)\n",
    "\n",
    "        self.quit_button = ttk.Button(root, text=\"Quit\", command=self.root.destroy)\n",
    "        self.quit_button.pack(pady=10)\n",
    "\n",
    "    def solve_cube(self):\n",
    "        self.label.config(text=\"正在解魔方，請稍候...\")\n",
    "        \n",
    "        self.step1()\n",
    "        #self.draw_cube_solution()\n",
    "        self.step2()\n",
    "\n",
    "    \n",
    "    def step1(self):\n",
    "        #camera_read_new.ipynb除最後一段外的內容\n",
    "        pass\n",
    "    def step2(self):\n",
    "        complete = cv2.imread('complete.png')\n",
    "        cv2.imshow('congrats',complete)\n",
    "        cv2.waitKey(0)\n",
    "'''\n",
    "    def draw_cube_solution(self):\n",
    "        colors = [\"orange\", \"green\", \"blue\", \"yellow\", \"red\", \"white\"]\n",
    "        # 切割成四區塊\n",
    "        width = self.canvas.winfo_reqwidth() / 2\n",
    "        height = self.canvas.winfo_reqheight() / 2\n",
    "\n",
    "        for i in range(2):\n",
    "            for j in range(2):\n",
    "                x1 = j * width\n",
    "                y1 = i * height\n",
    "                x2 = (j + 1) * width\n",
    "                y2 = (i + 1) * height\n",
    "\n",
    "                color_index = i * 2 + j\n",
    "                self.canvas.create_rectangle(x1, y1, x2, y2, fill=colors[color_index], outline=\"black\")\n",
    "'''\n",
    "if __name__ == \"__main__\":\n",
    "    root = tk.Tk()\n",
    "    app = CubeSolverApp(root)\n",
    "    root.mainloop()\n"
   ]
  }
 ],
 "metadata": {
  "kernelspec": {
   "display_name": "Python 3",
   "language": "python",
   "name": "python3"
  },
  "language_info": {
   "codemirror_mode": {
    "name": "ipython",
    "version": 3
   },
   "file_extension": ".py",
   "mimetype": "text/x-python",
   "name": "python",
   "nbconvert_exporter": "python",
   "pygments_lexer": "ipython3",
   "version": "3.10.7"
  }
 },
 "nbformat": 4,
 "nbformat_minor": 2
}
